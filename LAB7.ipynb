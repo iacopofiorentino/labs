{
 "cells": [
  {
   "cell_type": "code",
   "execution_count": null,
   "metadata": {},
   "outputs": [],
   "source": [
    "\n",
    "calculate NPV. The rate is a float and the cash flows and investment are in a list.\n",
    "create a function called NPV to calculate NPV\n",
    "create a function to calcule IRR. In order to calculate IRR you may aproximate the follwoing expression: rate= rate*(1-NPV(CFList, rate)/invest)\n",
    "create a function for payback period\n",
    "\n"
   ]
  },
  {
   "cell_type": "code",
   "execution_count": 2,
   "metadata": {},
   "outputs": [
    {
     "name": "stdout",
     "output_type": "stream",
     "text": [
      "[-1000.0, 192.3076923076923, 184.91124260355028, 266.69890760127447, 427.4020955148628]\n",
      "71.3199380273798\n"
     ]
    }
   ],
   "source": [
    "#calcule the NPV sugestion: iterate both by index and value using enumerate\n",
    "\n",
    "CFList=[-1000, 200, 200, 300, 500]\n",
    "rate=0.04\n",
    "NPVList=[]\n",
    "NPV=0\n",
    "\n",
    "#calculate the NPV \n",
    "for n in range(len(CFList)):\n",
    "    NPVList.append(CFList[n]/((1+rate)**n))\n",
    "print(NPVList)\n",
    "\n",
    "NPV=sum(NPVList)\n",
    "print(NPV)"
   ]
  },
  {
   "cell_type": "code",
   "execution_count": 4,
   "metadata": {},
   "outputs": [
    {
     "data": {
      "text/plain": [
       "71.3199380273798"
      ]
     },
     "execution_count": 4,
     "metadata": {},
     "output_type": "execute_result"
    }
   ],
   "source": [
    "#create a function called NPV that returns the NPV value\n",
    "\n",
    "def NPVfunction (List, r):\n",
    "    NPV=0\n",
    "    for n in range(len(List)):\n",
    "        NPV+=(List[n]/((1+r)**(n)))\n",
    "    return NPV\n",
    "\n",
    "NPVfunction(CFList, rate)"
   ]
  },
  {
   "cell_type": "code",
   "execution_count": 5,
   "metadata": {},
   "outputs": [
    {
     "name": "stdout",
     "output_type": "stream",
     "text": [
      "0.06542842804025385\n"
     ]
    }
   ],
   "source": [
    "# Create a function called IRR\n",
    "\n",
    "def IRR (CFList):\n",
    "    rate=1\n",
    "    for i in range (1,1000):\n",
    "        rate=rate*(1-NPVfunction(CFList, rate)/CFList[0])\n",
    "    return rate\n",
    "print (IRR(CFList))"
   ]
  },
  {
   "cell_type": "code",
   "execution_count": 7,
   "metadata": {},
   "outputs": [
    {
     "name": "stdout",
     "output_type": "stream",
     "text": [
      "[-1000, -800, -600, -300, 200]\n",
      "4\n",
      "3.6\n"
     ]
    }
   ],
   "source": [
    "#pay back period\n",
    "\n",
    "CCF=[]\n",
    "CCF.append(CFList[0])\n",
    "\n",
    "for i in range(1,len(CFList)):\n",
    "       CCF.append(CCF[i-1]+CFList[i]) #create cummulative cashflow\n",
    "print(CCF)\n",
    "\n",
    "PBPeriod=[i for i, x in enumerate(CCF) if x>0] # at which position it is positive for the first time\n",
    "print(PBPeriod[0])\n",
    "\n",
    "PBPeriodexact=PBPeriod[0]-1+(CCF[-2]*(-1))/(CCF[-1]-CCF[-2]) # real value is in between index 3 and 4 \n",
    "print(PBPeriodexact)"
   ]
  },
  {
   "cell_type": "code",
   "execution_count": null,
   "metadata": {},
   "outputs": [],
   "source": []
  }
 ],
 "metadata": {
  "kernelspec": {
   "display_name": "Python 3",
   "language": "python",
   "name": "python3"
  },
  "language_info": {
   "codemirror_mode": {
    "name": "ipython",
    "version": 3
   },
   "file_extension": ".py",
   "mimetype": "text/x-python",
   "name": "python",
   "nbconvert_exporter": "python",
   "pygments_lexer": "ipython3",
   "version": "3.7.3"
  }
 },
 "nbformat": 4,
 "nbformat_minor": 2
}
