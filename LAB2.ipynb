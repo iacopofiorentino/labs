{
 "cells": [
  {
   "cell_type": "code",
   "execution_count": 3,
   "metadata": {},
   "outputs": [],
   "source": [
    "1) Construct a list (shoppingList) including 'potatoes', 'carrots', 'cod' and 'sprouts’\n",
    "\n",
    "shoppingList= list((\"potatoes\", \"carrots\", \"cod\", \"sprouts\"))"
   ]
  },
  {
   "cell_type": "code",
   "execution_count": 5,
   "metadata": {},
   "outputs": [
    {
     "name": "stdout",
     "output_type": "stream",
     "text": [
      "carrots\n",
      "sprouts\n"
     ]
    }
   ],
   "source": [
    "2) Get the second and the last element of the list\n",
    "\n",
    "\n",
    "print(shoppingList [1])\n",
    "\n",
    "print(shoppingList [3])"
   ]
  },
  {
   "cell_type": "code",
   "execution_count": 8,
   "metadata": {},
   "outputs": [
    {
     "name": "stdout",
     "output_type": "stream",
     "text": [
      "['potatoes', 'carrots', 'cod', 'sprouts']\n"
     ]
    }
   ],
   "source": [
    "3) Iterate though the list\n",
    "\n",
    "\n",
    "print(shoppingList)"
   ]
  },
  {
   "cell_type": "code",
   "execution_count": 10,
   "metadata": {},
   "outputs": [
    {
     "name": "stdout",
     "output_type": "stream",
     "text": [
      "[]\n"
     ]
    }
   ],
   "source": [
    "4) Create a new list (studentList)\n",
    "\n",
    "studentList= list(())\n",
    "print(studentList)"
   ]
  },
  {
   "cell_type": "code",
   "execution_count": 15,
   "metadata": {},
   "outputs": [
    {
     "name": "stdout",
     "output_type": "stream",
     "text": [
      "['potatoes', 'carrots', 'cod', 'sprouts', 'orange', 'lime']\n"
     ]
    }
   ],
   "source": [
    "5) Add the follwoing elements to the shoppingList: orange and lime\n",
    "\n",
    "\n",
    "shoppingList= list((\"potatoes\", \"carrots\", \"cod\", \"sprouts\"))\n",
    "shoppingList.append(\"orange\")\n",
    "shoppingList.append(\"lime\")\n",
    "\n",
    "print(shoppingList)"
   ]
  },
  {
   "cell_type": "code",
   "execution_count": 17,
   "metadata": {},
   "outputs": [
    {
     "name": "stdout",
     "output_type": "stream",
     "text": [
      "['cod', 'sprouts', 'orange']\n"
     ]
    }
   ],
   "source": [
    "6) Remove the carrots, the first element and last element of the shoppingList list\n",
    "\n",
    "shoppingList.remove(\"carrots\")\n",
    "del shoppingList [0]\n",
    "del shoppingList [-1]\n",
    "\n",
    "print(shoppingList)"
   ]
  },
  {
   "cell_type": "code",
   "execution_count": 18,
   "metadata": {},
   "outputs": [
    {
     "ename": "NameError",
     "evalue": "name 'filmList' is not defined",
     "output_type": "error",
     "traceback": [
      "\u001b[0;31m---------------------------------------------------------------------------\u001b[0m",
      "\u001b[0;31mNameError\u001b[0m                                 Traceback (most recent call last)",
      "\u001b[0;32m<ipython-input-18-6e32ce25b95c>\u001b[0m in \u001b[0;36m<module>\u001b[0;34m\u001b[0m\n\u001b[1;32m      1\u001b[0m \u001b[0mstudentList\u001b[0m\u001b[0;34m=\u001b[0m \u001b[0mlist\u001b[0m\u001b[0;34m(\u001b[0m\u001b[0;34m(\u001b[0m\u001b[0;34m)\u001b[0m\u001b[0;34m)\u001b[0m\u001b[0;34m\u001b[0m\u001b[0;34m\u001b[0m\u001b[0m\n\u001b[0;32m----> 2\u001b[0;31m \u001b[0;32mdel\u001b[0m \u001b[0mfilmList\u001b[0m\u001b[0;34m\u001b[0m\u001b[0;34m\u001b[0m\u001b[0m\n\u001b[0m\u001b[1;32m      3\u001b[0m \u001b[0mprint\u001b[0m\u001b[0;34m(\u001b[0m\u001b[0mfilmList\u001b[0m\u001b[0;34m)\u001b[0m\u001b[0;34m\u001b[0m\u001b[0;34m\u001b[0m\u001b[0m\n",
      "\u001b[0;31mNameError\u001b[0m: name 'filmList' is not defined"
     ]
    }
   ],
   "source": [
    "7) Delete the film list\n",
    "\n",
    "studentList= list(())\n",
    "del filmList\n",
    "print(filmList)"
   ]
  },
  {
   "cell_type": "code",
   "execution_count": 19,
   "metadata": {},
   "outputs": [
    {
     "name": "stdout",
     "output_type": "stream",
     "text": [
      "[2, 4, 6, 8, 10, 12, 14, 16, 18, 20, 22, 24, 26, 28]\n"
     ]
    }
   ],
   "source": [
    "8) Create a list with the double values os number between 1 and 15.\n",
    "\n",
    "doubleValues= list((2*x for x in range(1, 15)))\n",
    "print(doubleValues)"
   ]
  },
  {
   "cell_type": "code",
   "execution_count": 20,
   "metadata": {},
   "outputs": [
    {
     "name": "stdout",
     "output_type": "stream",
     "text": [
      "[2, 4, 6]\n"
     ]
    }
   ],
   "source": [
    "9) Obtain the first 3 elements of the list\n",
    "\n",
    "\n",
    "firstThree=doubleValues [:3]\n",
    "print(firstThree)"
   ]
  },
  {
   "cell_type": "code",
   "execution_count": 21,
   "metadata": {},
   "outputs": [
    {
     "name": "stdout",
     "output_type": "stream",
     "text": [
      "['cod', 'sprouts', 'orange']\n"
     ]
    }
   ],
   "source": [
    "10) What is the result of, Why?\n",
    "\n",
    "\n",
    "shopping = shoppingList\n",
    "\n",
    "shoppingListCopy = shoppingList[:]\n",
    "\n",
    "print(shopping)"
   ]
  },
  {
   "cell_type": "code",
   "execution_count": 23,
   "metadata": {},
   "outputs": [
    {
     "name": "stdout",
     "output_type": "stream",
     "text": [
      "['orange']\n"
     ]
    }
   ],
   "source": [
    "12) What is the result of, Why?\n",
    "\n",
    "\n",
    "shopping = shoppingList\n",
    "\n",
    "shoppingList.append(\"orange\")\n",
    "\n",
    "print(shopping)"
   ]
  },
  {
   "cell_type": "code",
   "execution_count": 22,
   "metadata": {},
   "outputs": [
    {
     "name": "stdout",
     "output_type": "stream",
     "text": [
      "[]\n"
     ]
    }
   ],
   "source": [
    "13) romove all the items from the shoppingList\n",
    "\n",
    "\n",
    "shoppingList.clear()\n",
    "print(shoppingList)"
   ]
  },
  {
   "cell_type": "code",
   "execution_count": 24,
   "metadata": {},
   "outputs": [
    {
     "name": "stdout",
     "output_type": "stream",
     "text": [
      "beans\n"
     ]
    },
    {
     "ename": "TypeError",
     "evalue": "'tuple' object does not support item assignment",
     "output_type": "error",
     "traceback": [
      "\u001b[0;31m---------------------------------------------------------------------------\u001b[0m",
      "\u001b[0;31mTypeError\u001b[0m                                 Traceback (most recent call last)",
      "\u001b[0;32m<ipython-input-24-b70c29db0d71>\u001b[0m in \u001b[0;36m<module>\u001b[0;34m\u001b[0m\n\u001b[1;32m      3\u001b[0m \u001b[0mprint\u001b[0m \u001b[0;34m(\u001b[0m\u001b[0mnewPurchases\u001b[0m \u001b[0;34m[\u001b[0m\u001b[0;36m1\u001b[0m\u001b[0;34m]\u001b[0m\u001b[0;34m)\u001b[0m\u001b[0;34m\u001b[0m\u001b[0;34m\u001b[0m\u001b[0m\n\u001b[1;32m      4\u001b[0m \u001b[0;34m\u001b[0m\u001b[0m\n\u001b[0;32m----> 5\u001b[0;31m \u001b[0mnewPurchases\u001b[0m \u001b[0;34m[\u001b[0m\u001b[0;36m0\u001b[0m\u001b[0;34m]\u001b[0m \u001b[0;34m=\u001b[0m \u001b[0;34m\"apple\"\u001b[0m\u001b[0;34m\u001b[0m\u001b[0;34m\u001b[0m\u001b[0m\n\u001b[0m",
      "\u001b[0;31mTypeError\u001b[0m: 'tuple' object does not support item assignment"
     ]
    }
   ],
   "source": [
    "14) What is the result of, Why?\n",
    "\n",
    "\n",
    "newPurchases= (\"bananas\", \"beans\", \"rice\")\n",
    "\n",
    "print (newPurchases [1])\n",
    "\n",
    "newPurchases [0] = \"apple\""
   ]
  },
  {
   "cell_type": "code",
   "execution_count": 25,
   "metadata": {},
   "outputs": [
    {
     "name": "stdout",
     "output_type": "stream",
     "text": [
      "1 orange\n",
      "On day 1 I will buy orange.\n",
      "2 apple\n",
      "On day 2 I will buy apple.\n",
      "3 pear\n",
      "On day 3 I will buy pear.\n",
      "4 grape\n",
      "On day 4 I will buy grape.\n",
      "5 peach\n",
      "On day 5 I will buy peach.\n"
     ]
    }
   ],
   "source": [
    "15) Create a dictionary including the follwoing elements: orange, apple, pear, grape and peach. Key are 1 to 5. Iterate through key-value pair.\n",
    "\n",
    "fruit={1: 'orange', 2: 'apple', 3: 'pear', 4: 'grape', 5: 'peach'}\n",
    "for key, value in fruit.items():\n",
    "    print(str (key) + \" \"+ value)\n",
    "    print(\"On day\"+\" \"+str(key)+\" \"+\"I will buy\"+\" \"+value+\".\")"
   ]
  },
  {
   "cell_type": "code",
   "execution_count": 26,
   "metadata": {},
   "outputs": [
    {
     "name": "stdout",
     "output_type": "stream",
     "text": [
      "[['lime', 'apple'], ['potatoe', 'carrots'], ['pear', 'peach'], ['grape', 'water'], ['wine', 'meat']]\n"
     ]
    }
   ],
   "source": [
    "16) Create a weekList that is composed of several lists, each one corresponding to a day.\n",
    "\n",
    "\n",
    "weekList= []\n",
    "monday=list((\"lime\",\"apple\"))\n",
    "tuesday=list((\"potatoe\",\"carrots\"))\n",
    "wednesday=list((\"pear\",\"peach\"))\n",
    "thursday=list((\"grape\",\"water\"))\n",
    "friday=list((\"wine\",\"meat\"))\n",
    "\n",
    "weekList.append(monday)\n",
    "weekList.append(tuesday)\n",
    "weekList.append(wednesday)\n",
    "weekList.append(thursday)\n",
    "weekList.append(friday)\n",
    "print(weekList)\n"
   ]
  },
  {
   "cell_type": "code",
   "execution_count": null,
   "metadata": {},
   "outputs": [],
   "source": []
  }
 ],
 "metadata": {
  "kernelspec": {
   "display_name": "Python 3",
   "language": "python",
   "name": "python3"
  },
  "language_info": {
   "codemirror_mode": {
    "name": "ipython",
    "version": 3
   },
   "file_extension": ".py",
   "mimetype": "text/x-python",
   "name": "python",
   "nbconvert_exporter": "python",
   "pygments_lexer": "ipython3",
   "version": "3.7.3"
  }
 },
 "nbformat": 4,
 "nbformat_minor": 2
}
