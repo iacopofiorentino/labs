{
 "cells": [
  {
   "cell_type": "code",
   "execution_count": 1,
   "metadata": {},
   "outputs": [
    {
     "name": "stdout",
     "output_type": "stream",
     "text": [
      "[1000.0, 1100.0, 1210.0000000000002, 1331.0000000000005, 1464.1000000000004, 1610.5100000000004]\n"
     ]
    }
   ],
   "source": [
    "1) Create a list of volume of sales considering the following assumptions:\n",
    "\n",
    "inicial valueSales =1000\n",
    "anual growth rate = 10%\n",
    "number of years = 6\n",
    "\n",
    "initialSales=1000.0\n",
    "anualGrowth=0.1\n",
    "i=0\n",
    "years=6\n",
    "salesList=[]\n",
    "\n",
    "for i in range(0,years):\n",
    "    salesList.append(initialSales*(1+anualGrowth)**i)\n",
    "print(salesList)"
   ]
  },
  {
   "cell_type": "code",
   "execution_count": 2,
   "metadata": {},
   "outputs": [
    {
     "name": "stdout",
     "output_type": "stream",
     "text": [
      "[300.00000000000006, 330.00000000000006, 363.0000000000001, 399.3000000000002, 439.2300000000002, 483.1530000000002]\n"
     ]
    }
   ],
   "source": [
    "2) Based on the previews list, create a list with costs knowing the profit margin:\n",
    "\n",
    "margin =70%\n",
    "\n",
    "margin=0.7\n",
    "costList=[]\n",
    "\n",
    "for i in salesList:\n",
    "    costList.append(i*(1-margin))\n",
    "    \n",
    "print(costList)"
   ]
  },
  {
   "cell_type": "code",
   "execution_count": 5,
   "metadata": {},
   "outputs": [
    {
     "name": "stdout",
     "output_type": "stream",
     "text": [
      "[200.0, 270.0, 347.0000000000001, 431.7000000000003, 524.8700000000001, 627.3570000000002]\n"
     ]
    }
   ],
   "source": [
    "4) Calculete a newProfit suposing 500 of fixed costs\n",
    "\n",
    "\n",
    "margin=0.7\n",
    "newProfitList=[]\n",
    "fixedCosts=500\n",
    "\n",
    "for i in salesList:\n",
    "    newProfitList.append(i*margin-fixedCosts)\n",
    "\n",
    "print(newProfitList)"
   ]
  },
  {
   "cell_type": "code",
   "execution_count": 6,
   "metadata": {},
   "outputs": [
    {
     "name": "stdout",
     "output_type": "stream",
     "text": [
      "[1280, 1739, 389, 1634, 1312, 657]\n"
     ]
    }
   ],
   "source": [
    "5) Create a newSales list with random generated values between 200 and 2000. Corresponding to volume of sales during a certainn numberOfYears.\n",
    "\n",
    "some ints:\n",
    "\n",
    "Import module, writing import random\n",
    "use the method random.randint(a, b). This method is used to generate values between a and b ( Return a random integer N such that a <= N <= b.):\n",
    "\n",
    "i=0\n",
    "newSalesList=[]\n",
    "\n",
    "import random\n",
    "\n",
    "for i in range(0,len(newProfitList)):\n",
    "    newSalesList.append(random.randint(200, 2000))\n",
    "\n",
    "print(newSalesList)"
   ]
  },
  {
   "cell_type": "code",
   "execution_count": null,
   "metadata": {},
   "outputs": [],
   "source": [
    "6) Create a new list with profits (newProfit). With margin 70% with fixed costs stated previously.\n",
    "\n",
    "margin=0.7\n",
    "newProfits=[]\n",
    "fixedCosts=500\n",
    "\n",
    "for i in range(years):\n",
    "    newProfits.append((newProfitList[i]*margin)-fixedCosts)\n",
    "\n",
    "print(newProfits)"
   ]
  },
  {
   "cell_type": "code",
   "execution_count": null,
   "metadata": {},
   "outputs": [],
   "source": [
    "7) What is the percentage of years having profits in the total?\n",
    "\n",
    "perc=[]\n",
    "yearswithProfit=[]\n",
    "\n",
    "for i in newProfits:\n",
    "    if i>0:\n",
    "        yearswithProfit.append(i)\n",
    "\n",
    "perc=((len(yearswithProfit)/6)*100)\n",
    "print(perc)"
   ]
  },
  {
   "cell_type": "code",
   "execution_count": 8,
   "metadata": {},
   "outputs": [
    {
     "data": {
      "image/png": "[encoded data removed]",
      "text/plain": [
       "<Figure size 432x288 with 1 Axes>"
      ]
     },
     "metadata": {
      "needs_background": "light"
     },
     "output_type": "display_data"
    }
   ],
   "source": [
    "8) Plot the sales and the newSales (generated randomly) throughout the years.\n",
    "\n",
    "\n",
    "import matplotlib.pyplot as plt \n",
    "\n",
    "plt.plot(salesList) \n",
    "plt.plot(newSalesList) \n",
    "plt.ylabel('sales') \n",
    "plt.xlabel('years')\n",
    "plt.draw()"
   ]
  },
  {
   "cell_type": "code",
   "execution_count": null,
   "metadata": {},
   "outputs": [],
   "source": []
  }
 ],
 "metadata": {
  "kernelspec": {
   "display_name": "Python 3",
   "language": "python",
   "name": "python3"
  },
  "language_info": {
   "codemirror_mode": {
    "name": "ipython",
    "version": 3
   },
   "file_extension": ".py",
   "mimetype": "text/x-python",
   "name": "python",
   "nbconvert_exporter": "python",
   "pygments_lexer": "ipython3",
   "version": "3.7.3"
  }
 },
 "nbformat": 4,
 "nbformat_minor": 2
}
