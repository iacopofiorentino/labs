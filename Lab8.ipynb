{
 "cells": [
  {
   "cell_type": "code",
   "execution_count": null,
   "metadata": {},
   "outputs": [],
   "source": [
    "# Create a function that ask the user his name and says Hello, John Doe\n",
    "\n",
    "def chat (question,answer):\n",
    "    msg =\"\"\n",
    "    while msg == \"\":\n",
    "        msg= input(question)\n",
    "    return str(answer)+ \"\"+ str(msg)\n",
    "\n",
    "chat(\"what is your name?\",\"nice to meet you,\")"
   ]
  },
  {
   "cell_type": "code",
   "execution_count": null,
   "metadata": {},
   "outputs": [],
   "source": [
    "# Create a function called chat that ask the user what is his problem and will answer \"yes of course\"\n",
    "\n",
    "def chat():\n",
    "    problem=\"\"\n",
    "    while problem !=\"bye\":\n",
    "        problem= input(\"what is your problem?\")\n",
    "        print(\"yes, ofcourse\")        \n",
    "\n",
    "chat()"
   ]
  },
  {
   "cell_type": "code",
   "execution_count": 2,
   "metadata": {},
   "outputs": [
    {
     "name": "stdout",
     "output_type": "stream",
     "text": [
      "what is your problem?keyboard\n",
      "Thanks for your message\n",
      "what is your problem?computer\n",
      "Thanks for your message\n",
      "what is your problem?computer\n",
      "Hi\n",
      "what is your problem?ok\n",
      "Hi\n"
     ]
    }
   ],
   "source": [
    "# Create a function called chat that ask the user what is his problem and will answer randomly among 6 possible answers\n",
    "\n",
    "import random \n",
    "randomAnswers=(\"You will be fine.\",\"Hi\",\"Nice to meet you.\",\"Thanks for your message\",\"Life is great.\")\n",
    "\n",
    "def chat():\n",
    "    problem1=\"\"\n",
    "    while problem1!=\"ok\":\n",
    "        problem1=input(\"what is your problem?\")\n",
    "        print (random.choice(randomAnswers))\n",
    "\n",
    "    \n",
    "chat()\n"
   ]
  },
  {
   "cell_type": "code",
   "execution_count": 3,
   "metadata": {},
   "outputs": [],
   "source": [
    "import random\n",
    "randomAnswers=[\"You will be fine.\",\"Hi\",\"Nice to meet you.\",\"Thanks for your message\",\"Life is great.\"]\n",
    "\n",
    "def chat2 ():\n",
    "    \n",
    "    question = input (\"What is your problem?:\")\n",
    "    \n",
    "    print (randomAnswers[random.randint(0,len(randomAnswers)-1)])"
   ]
  },
  {
   "cell_type": "code",
   "execution_count": null,
   "metadata": {},
   "outputs": [],
   "source": [
    "randchat()"
   ]
  },
  {
   "cell_type": "code",
   "execution_count": null,
   "metadata": {},
   "outputs": [],
   "source": []
  }
 ],
 "metadata": {
  "kernelspec": {
   "display_name": "Python 3",
   "language": "python",
   "name": "python3"
  },
  "language_info": {
   "codemirror_mode": {
    "name": "ipython",
    "version": 3
   },
   "file_extension": ".py",
   "mimetype": "text/x-python",
   "name": "python",
   "nbconvert_exporter": "python",
   "pygments_lexer": "ipython3",
   "version": "3.7.3"
  }
 },
 "nbformat": 4,
 "nbformat_minor": 2
}
