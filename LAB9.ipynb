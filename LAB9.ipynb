{
 "cells": [
  {
   "cell_type": "code",
   "execution_count": null,
   "metadata": {},
   "outputs": [],
   "source": [
    "lab 9\n",
    "Suppose you have the follwoing payoff matriz of a prisoner's dilemna$$\\begin{bmatrix} (2,2) &amp; (0,3) \\\\ (3,0) &amp; (1,1)  \\end{bmatrix}$$\n",
    "\n",
    "Player 0 may play 0 or 1 and player 1 may play 0 or 1. 0 is cooperate (our peace), 1 is not cooperate (war).\n"
   ]
  },
  {
   "cell_type": "code",
   "execution_count": 1,
   "metadata": {},
   "outputs": [
    {
     "name": "stdout",
     "output_type": "stream",
     "text": [
      "(1, 1)\n"
     ]
    }
   ],
   "source": [
    "1. Create a function that receives results from each one of the player and gives as results a tuple with the results.\n",
    "\n",
    "\n",
    "\n",
    "Events=(((2,2),(0,3)),((3,0),(1,1)))\n",
    "\n",
    "def dilema (M0,M1):\n",
    "    if M0==0:\n",
    "        if M1==0:\n",
    "            print(Events[0][0])\n",
    "        else:\n",
    "            print(Events[0][1])\n",
    "    else: \n",
    "        if M1==0:\n",
    "            print(Events[1][0])\n",
    "        else: \n",
    "            print(Events[1][1])\n",
    "\n",
    "dilema(M0=1,M1=1)"
   ]
  },
  {
   "cell_type": "code",
   "execution_count": 4,
   "metadata": {},
   "outputs": [],
   "source": [
    "\n",
    "\n",
    "def payoff (player1,player2):\n",
    "    e=Events[player1][player2]\n",
    "    return e\n"
   ]
  },
  {
   "cell_type": "code",
   "execution_count": 6,
   "metadata": {},
   "outputs": [
    {
     "name": "stdout",
     "output_type": "stream",
     "text": [
      "(3, 0)\n"
     ]
    }
   ],
   "source": [
    "2. Player 0 is the user that chooses between 0 a 1. Player 1 is a computer. Result is randomly generated.\n",
    "\n",
    "\n",
    "\n",
    "import random\n",
    "\n",
    "def dilema2 (M0):\n",
    "    M1=random.choice([0,1]) #randomly choosing 0 OR 1 \n",
    "    if M0==0:\n",
    "        if M1==0:\n",
    "            print(Events[0][0])\n",
    "        else:\n",
    "            print(Events[0][1])\n",
    "    else: \n",
    "        if M1==0:\n",
    "            print(Events[1][0])\n",
    "        else: \n",
    "            print(Events[1][1])\n",
    "\n",
    "dilema2(M0=1)"
   ]
  },
  {
   "cell_type": "code",
   "execution_count": 7,
   "metadata": {},
   "outputs": [
    {
     "name": "stdout",
     "output_type": "stream",
     "text": [
      "[(1, 1), (2, 2), (1, 1), (2, 2), (0, 3), (1, 1), (2, 2), (3, 0), (0, 3), (2, 2)]\n"
     ]
    }
   ],
   "source": [
    "3. Calculate the accumulated value resulting from an iterative game (10 iterations)\n",
    "\n",
    "\n",
    "\n",
    "import random #iteration\n",
    "game=[]\n",
    "\n",
    "def dilema3 ():\n",
    "    for result in range (0,10):\n",
    "        M0=random.choice([0,1]) #computer choosing both moves\n",
    "        M1=random.choice([0,1]) #randomly choosing 0 OR 1 \n",
    "        if M0==0:\n",
    "            if M1==0:\n",
    "                game.append(Events[0][0])\n",
    "            else:\n",
    "                game.append(Events[0][1])\n",
    "        else: \n",
    "            if M1==0:\n",
    "                game.append(Events[1][0])\n",
    "            else: \n",
    "                game.append(Events[1][1])\n",
    "    print(game)\n",
    "dilema3()"
   ]
  },
  {
   "cell_type": "code",
   "execution_count": 8,
   "metadata": {},
   "outputs": [
    {
     "name": "stdout",
     "output_type": "stream",
     "text": [
      "Make a move!1\n",
      "Make a move!3\n",
      "Make a move!4\n",
      "Make a move!5\n",
      "Make a move!34\n",
      "Make a move!32\n",
      "Make a move!45\n",
      "Make a move!44\n",
      "Make a move!44\n",
      "Make a move!45\n",
      "[[3, 0], [1, 1], [3, 0], [3, 0], [1, 1], [1, 1], [3, 0], [1, 1], [3, 0], [3, 0]]\n"
     ]
    }
   ],
   "source": [
    "import random #iteration\n",
    "game1=[]\n",
    "Events=[[[2,2],[0,3]],[[3,0],[1,1]]]\n",
    "\n",
    "def dilema4 ():\n",
    "    for result in range (0,10):\n",
    "        M0=input(\"Make a move!\") #user activity\n",
    "        M1=random.choice([0,1]) #randomly choosing 0 OR 1 by the PC\n",
    "        if M0==0:\n",
    "            if M1==0:\n",
    "                game1.append(Events[0][0])\n",
    "            else:\n",
    "                game1.append(Events[0][1])\n",
    "        else: \n",
    "            if M1==0:\n",
    "                game1.append(Events[1][0])\n",
    "            else: \n",
    "                game1.append(Events[1][1])\n",
    "    print(game1)\n",
    "        \n",
    "dilema4()"
   ]
  },
  {
   "cell_type": "code",
   "execution_count": 9,
   "metadata": {},
   "outputs": [
    {
     "name": "stdout",
     "output_type": "stream",
     "text": [
      "Make a move!1\n",
      "(1, 1)\n",
      "None\n",
      "Make a move!3\n",
      "(1, 1)\n",
      "None\n",
      "Make a move!4\n",
      "(3, 0)\n",
      "None\n",
      "Make a move!5\n",
      "(3, 0)\n",
      "None\n",
      "Make a move!6\n",
      "(3, 0)\n",
      "None\n",
      "Make a move!7\n",
      "(1, 1)\n",
      "None\n",
      "Make a move!8\n",
      "(1, 1)\n",
      "None\n",
      "Make a move!9\n",
      "(3, 0)\n",
      "None\n",
      "Make a move!1\n",
      "(1, 1)\n",
      "None\n",
      "Make a move!1\n",
      "(1, 1)\n",
      "None\n"
     ]
    }
   ],
   "source": [
    "import random # iteration \n",
    "\n",
    "Events=(((2,2),(0,3)),((3,0),(1,1)))\n",
    "\n",
    "for result in range (0,10):\n",
    "        M0=input(\"Make a move!\") \n",
    "        M1=random.choice([0,1]) #randomly choosing 0 OR 1 \n",
    "        print (dilema(M0,M1))"
   ]
  },
  {
   "cell_type": "code",
   "execution_count": null,
   "metadata": {},
   "outputs": [],
   "source": [
    "#accumulation\n",
    "\n",
    "import random \n",
    "total=0\n",
    "for i in range(1,11):\n",
    "    PC = random.randint(0,1)\n",
    "    user = int(input(\"0 or 1?\"))\n",
    "    print(payoff(PC,user))\n",
    "    result= payoff(PC,user)\n",
    "    total=total + result[0]\n",
    "    print(total)"
   ]
  },
  {
   "cell_type": "code",
   "execution_count": null,
   "metadata": {},
   "outputs": [],
   "source": []
  }
 ],
 "metadata": {
  "kernelspec": {
   "display_name": "Python 3",
   "language": "python",
   "name": "python3"
  },
  "language_info": {
   "codemirror_mode": {
    "name": "ipython",
    "version": 3
   },
   "file_extension": ".py",
   "mimetype": "text/x-python",
   "name": "python",
   "nbconvert_exporter": "python",
   "pygments_lexer": "ipython3",
   "version": "3.7.3"
  }
 },
 "nbformat": 4,
 "nbformat_minor": 2
}
